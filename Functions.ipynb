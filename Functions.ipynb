{
 "cells": [
  {
   "cell_type": "markdown",
   "metadata": {},
   "source": [
    "# Carre magique"
   ]
  },
  {
   "cell_type": "code",
   "execution_count": 1,
   "metadata": {},
   "outputs": [],
   "source": [
    "import numpy as np\n",
    "import magicsquares_ex as mag"
   ]
  },
  {
   "cell_type": "code",
   "execution_count": 2,
   "metadata": {
    "scrolled": true
   },
   "outputs": [
    {
     "name": "stdout",
     "output_type": "stream",
     "text": [
      "[[1]]\n"
     ]
    }
   ],
   "source": [
    "def Square_magic(n, dtype = np.uint32):\n",
    "    res = np.zeros((n,n), dtype = dtype)\n",
    "    i = 0\n",
    "    j = n//2\n",
    "    res[i,j] = 1\n",
    "    for v in range(2, n**2+1):\n",
    "        i2 = (i+2)%n\n",
    "        j2 = (j+1)%n\n",
    "        if res[i2,j2] != 0:\n",
    "            print(\"Il a un bleme: la case est occupe !\")\n",
    "            i = (i+1)%n\n",
    "            j = j\n",
    "        else: \n",
    "            i = i2\n",
    "            j = j2\n",
    "        res[i,j] = v\n",
    "    \n",
    "        print(v)\n",
    "    return res\n",
    "\n",
    "def multiple_square():\n",
    "    pass\n",
    "\n",
    "T = Square_magic(1, dtype = np.uint8)\n",
    "print(T)"
   ]
  },
  {
   "cell_type": "markdown",
   "metadata": {},
   "source": [
    "## Script qui verifie si les carres sont bien magique"
   ]
  },
  {
   "cell_type": "code",
   "execution_count": 3,
   "metadata": {},
   "outputs": [
    {
     "data": {
      "text/plain": [
       "array([[8, 1, 6],\n",
       "       [3, 5, 7],\n",
       "       [4, 9, 2]])"
      ]
     },
     "execution_count": 3,
     "metadata": {},
     "output_type": "execute_result"
    }
   ],
   "source": [
    "mag.square3_ok"
   ]
  },
  {
   "cell_type": "code",
   "execution_count": 4,
   "metadata": {},
   "outputs": [
    {
     "data": {
      "text/plain": [
       "15"
      ]
     },
     "execution_count": 4,
     "metadata": {},
     "output_type": "execute_result"
    }
   ],
   "source": [
    "sum(mag.square3_ok[0,:]) # Fais la somme des entiers de la premiere ligne (0 en python)."
   ]
  },
  {
   "cell_type": "code",
   "execution_count": 5,
   "metadata": {},
   "outputs": [
    {
     "data": {
      "text/plain": [
       "array([8, 5, 2])"
      ]
     },
     "execution_count": 5,
     "metadata": {},
     "output_type": "execute_result"
    }
   ],
   "source": [
    "mag.square3_ok.diagonal() # matrice diagonale"
   ]
  },
  {
   "cell_type": "code",
   "execution_count": 6,
   "metadata": {},
   "outputs": [
    {
     "data": {
      "text/plain": [
       "array([6, 5, 4])"
      ]
     },
     "execution_count": 6,
     "metadata": {},
     "output_type": "execute_result"
    }
   ],
   "source": [
    "mag.square3_ok[:,::-1].diagonal() # matrice inverse"
   ]
  },
  {
   "cell_type": "code",
   "execution_count": 7,
   "metadata": {},
   "outputs": [
    {
     "data": {
      "text/plain": [
       "{'square3_ok': array([[8, 1, 6],\n",
       "        [3, 5, 7],\n",
       "        [4, 9, 2]]),\n",
       " 'square_no_diag': array([[8, 1, 6],\n",
       "        [4, 9, 2],\n",
       "        [3, 5, 7]]),\n",
       " 'square_no_row': array([[8, 9, 6],\n",
       "        [3, 5, 7],\n",
       "        [4, 1, 2]]),\n",
       " 'square_no_col': array([[8, 1, 6],\n",
       "        [7, 5, 3],\n",
       "        [4, 9, 2]]),\n",
       " 'square3_no_row_diag': array([[8, 5, 6],\n",
       "        [3, 1, 7],\n",
       "        [4, 9, 2]]),\n",
       " 'square5_ok': array([[ 1, 24,  3, 25, 12],\n",
       "        [16,  7, 21,  6, 15],\n",
       "        [23, 14, 18,  8,  2],\n",
       "        [ 5,  9, 10, 22, 19],\n",
       "        [20, 11, 13,  4, 17]]),\n",
       " 'albrecht_durer': array([[16,  3,  2, 13],\n",
       "        [ 5, 10, 11,  8],\n",
       "        [ 9,  6,  7, 12],\n",
       "        [ 4, 15, 14,  1]]),\n",
       " 'josep_maria_subirachs': array([[ 1, 14, 14,  4],\n",
       "        [11,  7,  6,  9],\n",
       "        [ 8, 10, 10,  5],\n",
       "        [13,  2,  3, 15]]),\n",
       " 'square5_semi_diabolik': array([[17, 24,  1,  8, 15],\n",
       "        [23,  5,  7, 14, 16],\n",
       "        [ 4,  6, 13, 20, 22],\n",
       "        [10, 12, 19, 21,  3],\n",
       "        [11, 18, 25,  2,  9]]),\n",
       " 'benjamin_franklin': array([[52, 61,  4, 13, 20, 29, 36, 45],\n",
       "        [14,  3, 62, 51, 46, 35, 30, 19],\n",
       "        [53, 60,  5, 12, 21, 28, 37, 44],\n",
       "        [11,  6, 59, 54, 43, 38, 27, 22],\n",
       "        [55, 58,  7, 10, 23, 26, 39, 42],\n",
       "        [ 9,  8, 57, 56, 41, 40, 25, 24],\n",
       "        [50, 63,  2, 15, 18, 31, 34, 47],\n",
       "        [16,  1, 64, 49, 48, 33, 32, 17]]),\n",
       " 'general_cazalas': array([[ 1,  8, 53, 52, 45, 44, 25, 32],\n",
       "        [64, 57, 12, 13, 20, 21, 40, 33],\n",
       "        [ 2,  7, 54, 51, 46, 43, 26, 31],\n",
       "        [63, 58, 11, 14, 19, 22, 39, 34],\n",
       "        [ 3,  6, 55, 50, 47, 42, 27, 30],\n",
       "        [62, 59, 10, 15, 18, 23, 38, 35],\n",
       "        [ 4,  5, 56, 49, 48, 41, 28, 29],\n",
       "        [61, 60,  9, 16, 17, 24, 37, 36]]),\n",
       " 'willem_barink_8': array([[60,  6, 11, 53, 44, 22, 27, 37],\n",
       "        [13, 51, 62,  4, 29, 35, 46, 20],\n",
       "        [54, 12,  5, 59, 38, 28, 21, 43],\n",
       "        [ 3, 61, 52, 14, 19, 45, 36, 30],\n",
       "        [58,  8,  9, 55, 42, 24, 25, 39],\n",
       "        [15, 49, 64,  2, 31, 33, 48, 18],\n",
       "        [56, 10,  7, 57, 40, 26, 23, 41],\n",
       "        [ 1, 63, 50, 16, 17, 47, 34, 32]]),\n",
       " 'willem_barink_12': array([[138,   8,  17, 127, 114,  32,  41, 103,  90,  56,  65,  79],\n",
       "        [ 19, 125, 140,   6,  43, 101, 116,  30,  67,  77,  92,  54],\n",
       "        [128,  18,   7, 137, 104,  42,  31, 113,  80,  66,  55,  89],\n",
       "        [  5, 139, 126,  20,  29, 115, 102,  44,  53,  91,  78,  68],\n",
       "        [136,  10,  15, 129, 112,  34,  39, 105,  88,  58,  63,  81],\n",
       "        [ 21, 123, 142,   4,  45,  99, 118,  28,  69,  75,  94,  52],\n",
       "        [130,  16,   9, 135, 106,  40,  33, 111,  82,  64,  57,  87],\n",
       "        [  3, 141, 124,  22,  27, 117, 100,  46,  51,  93,  76,  70],\n",
       "        [134,  12,  13, 131, 110,  36,  37, 107,  86,  60,  61,  83],\n",
       "        [ 23, 121, 144,   2,  47,  97, 120,  26,  71,  73,  96,  50],\n",
       "        [132,  14,  11, 133, 108,  38,  35, 109,  84,  62,  59,  85],\n",
       "        [  1, 143, 122,  24,  25, 119,  98,  48,  49,  95,  74,  72]])}"
      ]
     },
     "execution_count": 7,
     "metadata": {},
     "output_type": "execute_result"
    }
   ],
   "source": [
    "mag.squares_dict"
   ]
  },
  {
   "cell_type": "code",
   "execution_count": 68,
   "metadata": {},
   "outputs": [],
   "source": [
    "def magicSum(n):\n",
    "    sm = (n*(n**2 + 1))//2 # // permet de travailler avec des entiers et non des floats\n",
    "    return sm\n",
    "\n",
    "def checkRows(square):\n",
    "    sm = magicSum(len(square))\n",
    "    for row in square:\n",
    "        rowsum = sum(row)\n",
    "        if rowsum != sm:\n",
    "            return False\n",
    "    return True\n",
    "\n",
    "def checkCol(square):\n",
    "    sm = magicSum(len(square))\n",
    "    for j in range(len(square)):\n",
    "        col = square[:,j]\n",
    "        colsum = sum(col)\n",
    "        if colsum != sm:\n",
    "            return False\n",
    "    return True\n",
    "\n",
    "def checkDiag(square):\n",
    "    sm = magicSum(len(square))\n",
    "    diag = square.diagonal()\n",
    "    if sum(diag) != sm:\n",
    "        return False\n",
    "    return True\n",
    "\n",
    "def checkAllNum_couteux(square):\n",
    "    n = len(square)\n",
    "    for num in range(1, n**2+1):\n",
    "        if num not in square:\n",
    "            return False\n",
    "    return True\n",
    "\n",
    "def checkAllNum(square):\n",
    "    n = len(square)\n",
    "    n2 = n**2\n",
    "    checklist = np.full(n2, False)\n",
    "    for i in range(n):\n",
    "        for j in range(n):\n",
    "            num = square[i,j]\n",
    "            # if not (1 <= num <= n2): Raccourci Python pour num >=1 and num <= n2\n",
    "            if num < 1 or num > n2:\n",
    "                return False\n",
    "            if checklist[num-1]: # doublon\n",
    "                return False\n",
    "            checklist[num-1] = True\n",
    "            print(checklist)\n",
    "    return True"
   ]
  },
  {
   "cell_type": "code",
   "execution_count": 67,
   "metadata": {},
   "outputs": [
    {
     "data": {
      "text/plain": [
       "array([False, False, False, False, False, False, False, False, False])"
      ]
     },
     "execution_count": 67,
     "metadata": {},
     "output_type": "execute_result"
    }
   ],
   "source": [
    "table = np.full((9), False)\n",
    "table"
   ]
  },
  {
   "cell_type": "code",
   "execution_count": 43,
   "metadata": {},
   "outputs": [
    {
     "name": "stdout",
     "output_type": "stream",
     "text": [
      "[8 5 2]\n",
      "15\n"
     ]
    }
   ],
   "source": [
    "diag = mag.square3_ok.diagonal()\n",
    "print(diag)\n",
    "print(sum(diag))"
   ]
  },
  {
   "cell_type": "code",
   "execution_count": 33,
   "metadata": {},
   "outputs": [
    {
     "name": "stdout",
     "output_type": "stream",
     "text": [
      "[6 7 2]\n"
     ]
    }
   ],
   "source": [
    "col = mag.square3_ok[:,2]\n",
    "print(col)"
   ]
  },
  {
   "cell_type": "code",
   "execution_count": 9,
   "metadata": {},
   "outputs": [
    {
     "data": {
      "text/plain": [
       "65"
      ]
     },
     "execution_count": 9,
     "metadata": {},
     "output_type": "execute_result"
    }
   ],
   "source": [
    "magicSum(5)"
   ]
  },
  {
   "cell_type": "code",
   "execution_count": 46,
   "metadata": {},
   "outputs": [
    {
     "name": "stdout",
     "output_type": "stream",
     "text": [
      "True\n",
      "False\n",
      "True\n",
      "True\n"
     ]
    }
   ],
   "source": [
    "print(checkRows(mag.square3_ok))\n",
    "print(checkRows(mag.square_no_row))\n",
    "print(checkRows(mag.square_no_col))\n",
    "print(checkRows(mag.square_no_diag))"
   ]
  },
  {
   "cell_type": "code",
   "execution_count": 39,
   "metadata": {},
   "outputs": [
    {
     "name": "stdout",
     "output_type": "stream",
     "text": [
      "True\n",
      "True\n",
      "False\n",
      "True\n"
     ]
    }
   ],
   "source": [
    "print(checkCol(mag.square3_ok))\n",
    "print(checkCol(mag.square_no_row))\n",
    "print(checkCol(mag.square_no_col))\n",
    "print(checkCol(mag.square_no_diag))"
   ]
  },
  {
   "cell_type": "code",
   "execution_count": 47,
   "metadata": {},
   "outputs": [
    {
     "name": "stdout",
     "output_type": "stream",
     "text": [
      "True\n",
      "True\n",
      "True\n",
      "False\n"
     ]
    }
   ],
   "source": [
    "print(checkDiag(mag.square3_ok))\n",
    "print(checkDiag(mag.square_no_row))\n",
    "print(checkDiag(mag.square_no_col))\n",
    "print(checkDiag(mag.square_no_diag))"
   ]
  },
  {
   "cell_type": "code",
   "execution_count": 63,
   "metadata": {},
   "outputs": [
    {
     "name": "stdout",
     "output_type": "stream",
     "text": [
      "False\n",
      "False\n",
      "False\n",
      "False\n"
     ]
    }
   ],
   "source": [
    "print(checkRows(mag.josep_maria_subirachs))\n",
    "print(checkCol(mag.josep_maria_subirachs))\n",
    "print(checkDiag(mag.josep_maria_subirachs))\n",
    "print(checkAllNum(mag.josep_maria_subirachs))"
   ]
  },
  {
   "cell_type": "code",
   "execution_count": 72,
   "metadata": {},
   "outputs": [
    {
     "name": "stdout",
     "output_type": "stream",
     "text": [
      "[ True False False False False False False False False False False False\n",
      " False False False False]\n",
      "[ True False False False False False False False False False False False\n",
      " False  True False False]\n"
     ]
    },
    {
     "data": {
      "text/plain": [
       "False"
      ]
     },
     "execution_count": 72,
     "metadata": {},
     "output_type": "execute_result"
    }
   ],
   "source": [
    "#checkAllNum(mag.square3_ok)\n",
    "checkAllNum(mag.josep_maria_subirachs)"
   ]
  },
  {
   "cell_type": "code",
   "execution_count": 37,
   "metadata": {},
   "outputs": [
    {
     "data": {
      "text/plain": [
       "(3, 3)"
      ]
     },
     "execution_count": 37,
     "metadata": {},
     "output_type": "execute_result"
    }
   ],
   "source": [
    "len(mag.square3_ok)\n",
    "mag.square3_ok.shape"
   ]
  },
  {
   "cell_type": "code",
   "execution_count": 45,
   "metadata": {},
   "outputs": [
    {
     "name": "stdout",
     "output_type": "stream",
     "text": [
      "<class 'numpy.ndarray'>\n",
      "[8 1 6]\n",
      "<class 'numpy.ndarray'>\n",
      "[3 5 7]\n",
      "<class 'numpy.ndarray'>\n",
      "[4 9 2]\n"
     ]
    }
   ],
   "source": [
    "for row in mag.square3_ok:\n",
    "    "
   ]
  },
  {
   "cell_type": "code",
   "execution_count": 73,
   "metadata": {},
   "outputs": [
    {
     "data": {
      "text/plain": [
       "array([15, 15, 15])"
      ]
     },
     "execution_count": 73,
     "metadata": {},
     "output_type": "execute_result"
    }
   ],
   "source": [
    "sum(mag.square_no_row)"
   ]
  },
  {
   "cell_type": "code",
   "execution_count": 75,
   "metadata": {},
   "outputs": [
    {
     "name": "stdout",
     "output_type": "stream",
     "text": [
      "[[ 1 24  3 25 12]\n",
      " [16  7 21  6 15]\n",
      " [23 14 18  8  2]\n",
      " [ 5  9 10 22 19]\n",
      " [20 11 13  4 17]]\n"
     ]
    },
    {
     "data": {
      "text/plain": [
       "array([[ 3, 26,  5, 27, 14],\n",
       "       [18,  9, 23,  8, 17],\n",
       "       [25, 16, 20, 10,  4],\n",
       "       [ 7, 11, 12, 24, 21],\n",
       "       [22, 13, 15,  6, 19]])"
      ]
     },
     "execution_count": 75,
     "metadata": {},
     "output_type": "execute_result"
    }
   ],
   "source": [
    "print(mag.square5_ok)\n",
    "2+mag.square5_ok"
   ]
  },
  {
   "cell_type": "code",
   "execution_count": 76,
   "metadata": {},
   "outputs": [
    {
     "data": {
      "text/plain": [
       "325"
      ]
     },
     "execution_count": 76,
     "metadata": {},
     "output_type": "execute_result"
    }
   ],
   "source": [
    "np.sum(mag.square5_ok)"
   ]
  },
  {
   "cell_type": "code",
   "execution_count": 82,
   "metadata": {},
   "outputs": [
    {
     "data": {
      "text/plain": [
       "array([15, 15, 15])"
      ]
     },
     "execution_count": 82,
     "metadata": {},
     "output_type": "execute_result"
    }
   ],
   "source": [
    "mag.square_no_row.sum(axis=0)"
   ]
  },
  {
   "cell_type": "code",
   "execution_count": 84,
   "metadata": {},
   "outputs": [
    {
     "data": {
      "text/plain": [
       "array([[False,  True, False,  True, False],\n",
       "       [False, False,  True, False, False],\n",
       "       [ True, False, False, False, False],\n",
       "       [False, False, False,  True, False],\n",
       "       [False, False, False, False, False]])"
      ]
     },
     "execution_count": 84,
     "metadata": {},
     "output_type": "execute_result"
    }
   ],
   "source": [
    "mag.square5_ok > 20"
   ]
  },
  {
   "cell_type": "code",
   "execution_count": 87,
   "metadata": {},
   "outputs": [
    {
     "data": {
      "text/plain": [
       "False"
      ]
     },
     "execution_count": 87,
     "metadata": {},
     "output_type": "execute_result"
    }
   ],
   "source": [
    "def checkCol_numpy(square):\n",
    "    sm = magicSum(len(square))\n",
    "    return all(np.sum(square, axis = 0) == sm)\n",
    "\n",
    "checkCol_numpy(mag.square_no_col)"
   ]
  }
 ],
 "metadata": {
  "kernelspec": {
   "display_name": "Python 3",
   "language": "python",
   "name": "python3"
  },
  "language_info": {
   "codemirror_mode": {
    "name": "ipython",
    "version": 3
   },
   "file_extension": ".py",
   "mimetype": "text/x-python",
   "name": "python",
   "nbconvert_exporter": "python",
   "pygments_lexer": "ipython3",
   "version": "3.7.6"
  }
 },
 "nbformat": 4,
 "nbformat_minor": 4
}
