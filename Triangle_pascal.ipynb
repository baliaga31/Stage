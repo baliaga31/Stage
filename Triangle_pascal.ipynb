{
 "cells": [
  {
   "cell_type": "markdown",
   "metadata": {},
   "source": [
    "# Triangle de Pascal"
   ]
  },
  {
   "cell_type": "markdown",
   "metadata": {},
   "source": [
    "## Version python pure"
   ]
  },
  {
   "cell_type": "code",
   "execution_count": 33,
   "metadata": {},
   "outputs": [
    {
     "data": {
      "text/plain": [
       "[[1],\n",
       " [1, 1],\n",
       " [1, 2, 1],\n",
       " [1, 3, 3, 1],\n",
       " [1, 4, 6, 4, 1],\n",
       " [1, 5, 10, 10, 5, 1],\n",
       " [1, 6, 15, 20, 15, 6, 1]]"
      ]
     },
     "execution_count": 33,
     "metadata": {},
     "output_type": "execute_result"
    }
   ],
   "source": [
    "def pascal_triangle(rang):\n",
    "    res = []\n",
    "    for n in range(rang+1): # Fabrique les lignes\n",
    "        ligne = []\n",
    "        if n == 0:\n",
    "            ligne.append(1)\n",
    "        else:\n",
    "            for k in range(n+1): # On explore les colonnes\n",
    "                if k == 0 or k == n:\n",
    "                    ligne.append(1)\n",
    "                else:\n",
    "                    ligne.append(res[n-1][k-1] + res[n-1][k])\n",
    "        res.append(ligne) # res += [ligne]\n",
    "    return res\n",
    "                        \n",
    "pascal_triangle(6)"
   ]
  },
  {
   "cell_type": "markdown",
   "metadata": {},
   "source": [
    "## Optimisation du code"
   ]
  },
  {
   "cell_type": "code",
   "execution_count": 23,
   "metadata": {},
   "outputs": [
    {
     "data": {
      "text/plain": [
       "[[1], [1, 1], [1, 2, 1], [1, 3, 3, 1], [1, 4, 6, 4, 1], [1, 5, 10, 10, 5, 1]]"
      ]
     },
     "execution_count": 23,
     "metadata": {},
     "output_type": "execute_result"
    }
   ],
   "source": [
    "def pascal_triangle(rang):\n",
    "    if rang < 0:\n",
    "        raise ValueError(\"Rank must be positive or null\")\n",
    "    res = []\n",
    "    ligne = []\n",
    "    ligne.append(1)# n == 0\n",
    "    res.append(ligne)\n",
    "    for n in range(1, rang+1): # Calcule les lignes de 1 a rang\n",
    "        ligne = []\n",
    "        ligne.append(1) # Ajout de 1 en debut de ligne (k == 0)\n",
    "        for k in range(1,n): # k=1 to n-1\n",
    "            ligne.append(res[n-1][k-1] + res[n-1][k]) \n",
    "        ligne.append(1) # Ajout de 1 en fin de ligne (k == n)\n",
    "        res.append(ligne) # res += [ligne]\n",
    "    return res\n",
    "                        \n",
    "pascal_triangle(5)"
   ]
  },
  {
   "cell_type": "markdown",
   "metadata": {},
   "source": [
    "## Triangle de pascal avec Numpy"
   ]
  },
  {
   "cell_type": "code",
   "execution_count": 24,
   "metadata": {},
   "outputs": [],
   "source": [
    "import numpy as np"
   ]
  },
  {
   "cell_type": "code",
   "execution_count": 31,
   "metadata": {},
   "outputs": [
    {
     "data": {
      "text/plain": [
       "array([[ 1,  0,  0,  0,  0,  0,  0],\n",
       "       [ 1,  1,  0,  0,  0,  0,  0],\n",
       "       [ 1,  2,  1,  0,  0,  0,  0],\n",
       "       [ 1,  3,  3,  1,  0,  0,  0],\n",
       "       [ 1,  4,  6,  4,  1,  0,  0],\n",
       "       [ 1,  5, 10, 10,  5,  1,  0],\n",
       "       [ 1,  6, 15, 20, 15,  6,  1]], dtype=uint32)"
      ]
     },
     "execution_count": 31,
     "metadata": {},
     "output_type": "execute_result"
    }
   ],
   "source": [
    "def triangle_pascal_np(rang):\n",
    "    res = np.zeros((rang+1,rang+1), dtype = np.uint32)\n",
    "    res[0,0] = 1 # Ajout de 1 dans la case [0,0]\n",
    "    for n in range(1, rang+1):\n",
    "        res[n,0] = 1\n",
    "        for k in range(1,n):\n",
    "            res[n,k] = res[n-1, k-1] + res[n-1, k]\n",
    "        res[n,n] = 1\n",
    "    return res\n",
    "\n",
    "triangle_pascal_np(6)"
   ]
  },
  {
   "cell_type": "code",
   "execution_count": null,
   "metadata": {},
   "outputs": [],
   "source": []
  }
 ],
 "metadata": {
  "kernelspec": {
   "display_name": "Python 3",
   "language": "python",
   "name": "python3"
  },
  "language_info": {
   "codemirror_mode": {
    "name": "ipython",
    "version": 3
   },
   "file_extension": ".py",
   "mimetype": "text/x-python",
   "name": "python",
   "nbconvert_exporter": "python",
   "pygments_lexer": "ipython3",
   "version": "3.7.6"
  }
 },
 "nbformat": 4,
 "nbformat_minor": 4
}
